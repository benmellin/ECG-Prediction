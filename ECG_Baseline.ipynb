{
  "nbformat": 4,
  "nbformat_minor": 0,
  "metadata": {
    "colab": {
      "provenance": [],
      "include_colab_link": true
    },
    "kernelspec": {
      "name": "python3",
      "display_name": "Python 3"
    },
    "language_info": {
      "name": "python"
    }
  },
  "cells": [
    {
      "cell_type": "markdown",
      "metadata": {
        "id": "view-in-github",
        "colab_type": "text"
      },
      "source": [
        "<a href=\"https://colab.research.google.com/github/benmellin/ECG-Prediction/blob/main/ECG_Baseline.ipynb\" target=\"_parent\"><img src=\"https://colab.research.google.com/assets/colab-badge.svg\" alt=\"Open In Colab\"/></a>"
      ]
    },
    {
      "cell_type": "code",
      "execution_count": null,
      "metadata": {
        "colab": {
          "base_uri": "https://localhost:8080/"
        },
        "id": "uqrCDdZp4Hlb",
        "outputId": "a63e0599-0343-4e8b-8850-ef6dc8058132"
      },
      "outputs": [
        {
          "output_type": "stream",
          "name": "stdout",
          "text": [
            "Mounted at /content/drive\n"
          ]
        }
      ],
      "source": [
        "#Mount Drive\n",
        "from google.colab import drive\n",
        "drive.mount('/content/drive')"
      ]
    },
    {
      "cell_type": "code",
      "source": [
        "import pandas as pd\n",
        "import numpy as np\n",
        "\n",
        "from sklearn.ensemble import RandomForestClassifier\n",
        "from sklearn.neighbors import KNeighborsClassifier\n",
        "from sklearn.svm import SVC\n",
        "\n",
        "from sklearn.model_selection import train_test_split\n",
        "from sklearn.metrics import accuracy_score, classification_report\n",
        "from sklearn.metrics import confusion_matrix\n",
        "from sklearn.utils.class_weight import compute_class_weight\n",
        "\n",
        "import torch\n",
        "import torch.nn as nn\n",
        "import torch.optim as optim\n",
        "\n",
        "import matplotlib.pyplot as plt\n",
        "import seaborn as sns\n",
        "\n",
        "\n"
      ],
      "metadata": {
        "id": "FQ5wQ7HL40aO"
      },
      "execution_count": null,
      "outputs": []
    },
    {
      "cell_type": "code",
      "source": [
        "mit_train_df = pd.read_csv(\"/content/drive/MyDrive/Neural Nets Project/Data/mitbih_train.csv\",header=None)\n",
        "mit_test_df = pd.read_csv(\"/content/drive/MyDrive/Neural Nets Project/Data/mitbih_test.csv\",header=None)"
      ],
      "metadata": {
        "id": "fbi0fGIv4QxM"
      },
      "execution_count": null,
      "outputs": []
    },
    {
      "cell_type": "code",
      "source": [
        "mit_train_df = pd.read_csv(\"/content/drive/MyDrive/NN_RAW/mitbih_train.csv\",header=None)\n",
        "mit_test_df = pd.read_csv(\"/content/drive/MyDrive/NN_RAW/mitbih_test.csv\",header=None)"
      ],
      "metadata": {
        "id": "6vZZONcFKjPZ"
      },
      "execution_count": null,
      "outputs": []
    },
    {
      "cell_type": "markdown",
      "source": [
        "- Data is already normalized, so we can skip this step."
      ],
      "metadata": {
        "id": "fgbjG7QH_KDy"
      }
    },
    {
      "cell_type": "markdown",
      "source": [
        "Get the labels, create the validation data set"
      ],
      "metadata": {
        "id": "7l9KXtzUkLHX"
      }
    },
    {
      "cell_type": "code",
      "source": [
        "train_labels=mit_train_df.iloc[:,-1]\n",
        "test_labels=mit_test_df.iloc[:,-1]\n",
        "train_vals = mit_train_df.drop(mit_train_df.columns[-1], axis=1)\n",
        "test_vals = mit_test_df.drop(mit_test_df.columns[-1], axis=1)\n",
        "\n",
        "## Creating a validation set by taking .2 from training data set.\n",
        "\n",
        "train_x, val_x, train_y, val_y = train_test_split(train_vals, train_labels, test_size=0.2, random_state=1234)\n",
        "\n"
      ],
      "metadata": {
        "id": "elvFRgUZ4u1l"
      },
      "execution_count": null,
      "outputs": []
    },
    {
      "cell_type": "markdown",
      "source": [
        "### A note about data leakage\n",
        "- The reason I take the validation set from the training set is to prevent data leakage.\n",
        "- If we take some testing data for our validation set, we are overfitting on the test data, becuase our validation set would contain pateints that are also in the test set.\n",
        "- Thus, it is best to keep patients in the testing set completely unseen, so we can get a proper estimate of generalizability\n",
        "- I make the validation data set from the training data for this reason"
      ],
      "metadata": {
        "id": "KElR-Fz0-vdG"
      }
    },
    {
      "cell_type": "markdown",
      "source": [
        "# Some standard ML methods\n",
        "- Going to try some standard ML methods (SVM, random forest, KNN) without doing anything to the features of the data\n",
        "- I will primarily be trying to maximize multiclass macroaveraged recall.\n",
        "- I'm choosing to maximize this statistic because misclassification in the context of ECG pattern detection is dangerous.\n",
        "- By maximizing recall, we ultimately aim to miminimize false negatives.\n",
        "- Classes are also unbalanced here, which is why macroaverage is important."
      ],
      "metadata": {
        "id": "2cnEg-uv7M70"
      }
    },
    {
      "cell_type": "markdown",
      "source": [
        "## KNN"
      ],
      "metadata": {
        "id": "SVXhlrvEIvmC"
      }
    },
    {
      "cell_type": "code",
      "source": [
        "knn_clf=knn = KNeighborsClassifier(n_neighbors=5)\n",
        "knn_clf.fit(train_x, train_y)"
      ],
      "metadata": {
        "colab": {
          "base_uri": "https://localhost:8080/",
          "height": 78
        },
        "id": "D2WFI_pdI7dt",
        "outputId": "18a878c4-0563-4bdb-8b23-904778eaa239"
      },
      "execution_count": null,
      "outputs": [
        {
          "output_type": "execute_result",
          "data": {
            "text/plain": [
              "KNeighborsClassifier()"
            ],
            "text/html": [
              "<style>#sk-container-id-3 {\n",
              "  /* Definition of color scheme common for light and dark mode */\n",
              "  --sklearn-color-text: #000;\n",
              "  --sklearn-color-text-muted: #666;\n",
              "  --sklearn-color-line: gray;\n",
              "  /* Definition of color scheme for unfitted estimators */\n",
              "  --sklearn-color-unfitted-level-0: #fff5e6;\n",
              "  --sklearn-color-unfitted-level-1: #f6e4d2;\n",
              "  --sklearn-color-unfitted-level-2: #ffe0b3;\n",
              "  --sklearn-color-unfitted-level-3: chocolate;\n",
              "  /* Definition of color scheme for fitted estimators */\n",
              "  --sklearn-color-fitted-level-0: #f0f8ff;\n",
              "  --sklearn-color-fitted-level-1: #d4ebff;\n",
              "  --sklearn-color-fitted-level-2: #b3dbfd;\n",
              "  --sklearn-color-fitted-level-3: cornflowerblue;\n",
              "\n",
              "  /* Specific color for light theme */\n",
              "  --sklearn-color-text-on-default-background: var(--sg-text-color, var(--theme-code-foreground, var(--jp-content-font-color1, black)));\n",
              "  --sklearn-color-background: var(--sg-background-color, var(--theme-background, var(--jp-layout-color0, white)));\n",
              "  --sklearn-color-border-box: var(--sg-text-color, var(--theme-code-foreground, var(--jp-content-font-color1, black)));\n",
              "  --sklearn-color-icon: #696969;\n",
              "\n",
              "  @media (prefers-color-scheme: dark) {\n",
              "    /* Redefinition of color scheme for dark theme */\n",
              "    --sklearn-color-text-on-default-background: var(--sg-text-color, var(--theme-code-foreground, var(--jp-content-font-color1, white)));\n",
              "    --sklearn-color-background: var(--sg-background-color, var(--theme-background, var(--jp-layout-color0, #111)));\n",
              "    --sklearn-color-border-box: var(--sg-text-color, var(--theme-code-foreground, var(--jp-content-font-color1, white)));\n",
              "    --sklearn-color-icon: #878787;\n",
              "  }\n",
              "}\n",
              "\n",
              "#sk-container-id-3 {\n",
              "  color: var(--sklearn-color-text);\n",
              "}\n",
              "\n",
              "#sk-container-id-3 pre {\n",
              "  padding: 0;\n",
              "}\n",
              "\n",
              "#sk-container-id-3 input.sk-hidden--visually {\n",
              "  border: 0;\n",
              "  clip: rect(1px 1px 1px 1px);\n",
              "  clip: rect(1px, 1px, 1px, 1px);\n",
              "  height: 1px;\n",
              "  margin: -1px;\n",
              "  overflow: hidden;\n",
              "  padding: 0;\n",
              "  position: absolute;\n",
              "  width: 1px;\n",
              "}\n",
              "\n",
              "#sk-container-id-3 div.sk-dashed-wrapped {\n",
              "  border: 1px dashed var(--sklearn-color-line);\n",
              "  margin: 0 0.4em 0.5em 0.4em;\n",
              "  box-sizing: border-box;\n",
              "  padding-bottom: 0.4em;\n",
              "  background-color: var(--sklearn-color-background);\n",
              "}\n",
              "\n",
              "#sk-container-id-3 div.sk-container {\n",
              "  /* jupyter's `normalize.less` sets `[hidden] { display: none; }`\n",
              "     but bootstrap.min.css set `[hidden] { display: none !important; }`\n",
              "     so we also need the `!important` here to be able to override the\n",
              "     default hidden behavior on the sphinx rendered scikit-learn.org.\n",
              "     See: https://github.com/scikit-learn/scikit-learn/issues/21755 */\n",
              "  display: inline-block !important;\n",
              "  position: relative;\n",
              "}\n",
              "\n",
              "#sk-container-id-3 div.sk-text-repr-fallback {\n",
              "  display: none;\n",
              "}\n",
              "\n",
              "div.sk-parallel-item,\n",
              "div.sk-serial,\n",
              "div.sk-item {\n",
              "  /* draw centered vertical line to link estimators */\n",
              "  background-image: linear-gradient(var(--sklearn-color-text-on-default-background), var(--sklearn-color-text-on-default-background));\n",
              "  background-size: 2px 100%;\n",
              "  background-repeat: no-repeat;\n",
              "  background-position: center center;\n",
              "}\n",
              "\n",
              "/* Parallel-specific style estimator block */\n",
              "\n",
              "#sk-container-id-3 div.sk-parallel-item::after {\n",
              "  content: \"\";\n",
              "  width: 100%;\n",
              "  border-bottom: 2px solid var(--sklearn-color-text-on-default-background);\n",
              "  flex-grow: 1;\n",
              "}\n",
              "\n",
              "#sk-container-id-3 div.sk-parallel {\n",
              "  display: flex;\n",
              "  align-items: stretch;\n",
              "  justify-content: center;\n",
              "  background-color: var(--sklearn-color-background);\n",
              "  position: relative;\n",
              "}\n",
              "\n",
              "#sk-container-id-3 div.sk-parallel-item {\n",
              "  display: flex;\n",
              "  flex-direction: column;\n",
              "}\n",
              "\n",
              "#sk-container-id-3 div.sk-parallel-item:first-child::after {\n",
              "  align-self: flex-end;\n",
              "  width: 50%;\n",
              "}\n",
              "\n",
              "#sk-container-id-3 div.sk-parallel-item:last-child::after {\n",
              "  align-self: flex-start;\n",
              "  width: 50%;\n",
              "}\n",
              "\n",
              "#sk-container-id-3 div.sk-parallel-item:only-child::after {\n",
              "  width: 0;\n",
              "}\n",
              "\n",
              "/* Serial-specific style estimator block */\n",
              "\n",
              "#sk-container-id-3 div.sk-serial {\n",
              "  display: flex;\n",
              "  flex-direction: column;\n",
              "  align-items: center;\n",
              "  background-color: var(--sklearn-color-background);\n",
              "  padding-right: 1em;\n",
              "  padding-left: 1em;\n",
              "}\n",
              "\n",
              "\n",
              "/* Toggleable style: style used for estimator/Pipeline/ColumnTransformer box that is\n",
              "clickable and can be expanded/collapsed.\n",
              "- Pipeline and ColumnTransformer use this feature and define the default style\n",
              "- Estimators will overwrite some part of the style using the `sk-estimator` class\n",
              "*/\n",
              "\n",
              "/* Pipeline and ColumnTransformer style (default) */\n",
              "\n",
              "#sk-container-id-3 div.sk-toggleable {\n",
              "  /* Default theme specific background. It is overwritten whether we have a\n",
              "  specific estimator or a Pipeline/ColumnTransformer */\n",
              "  background-color: var(--sklearn-color-background);\n",
              "}\n",
              "\n",
              "/* Toggleable label */\n",
              "#sk-container-id-3 label.sk-toggleable__label {\n",
              "  cursor: pointer;\n",
              "  display: flex;\n",
              "  width: 100%;\n",
              "  margin-bottom: 0;\n",
              "  padding: 0.5em;\n",
              "  box-sizing: border-box;\n",
              "  text-align: center;\n",
              "  align-items: start;\n",
              "  justify-content: space-between;\n",
              "  gap: 0.5em;\n",
              "}\n",
              "\n",
              "#sk-container-id-3 label.sk-toggleable__label .caption {\n",
              "  font-size: 0.6rem;\n",
              "  font-weight: lighter;\n",
              "  color: var(--sklearn-color-text-muted);\n",
              "}\n",
              "\n",
              "#sk-container-id-3 label.sk-toggleable__label-arrow:before {\n",
              "  /* Arrow on the left of the label */\n",
              "  content: \"▸\";\n",
              "  float: left;\n",
              "  margin-right: 0.25em;\n",
              "  color: var(--sklearn-color-icon);\n",
              "}\n",
              "\n",
              "#sk-container-id-3 label.sk-toggleable__label-arrow:hover:before {\n",
              "  color: var(--sklearn-color-text);\n",
              "}\n",
              "\n",
              "/* Toggleable content - dropdown */\n",
              "\n",
              "#sk-container-id-3 div.sk-toggleable__content {\n",
              "  max-height: 0;\n",
              "  max-width: 0;\n",
              "  overflow: hidden;\n",
              "  text-align: left;\n",
              "  /* unfitted */\n",
              "  background-color: var(--sklearn-color-unfitted-level-0);\n",
              "}\n",
              "\n",
              "#sk-container-id-3 div.sk-toggleable__content.fitted {\n",
              "  /* fitted */\n",
              "  background-color: var(--sklearn-color-fitted-level-0);\n",
              "}\n",
              "\n",
              "#sk-container-id-3 div.sk-toggleable__content pre {\n",
              "  margin: 0.2em;\n",
              "  border-radius: 0.25em;\n",
              "  color: var(--sklearn-color-text);\n",
              "  /* unfitted */\n",
              "  background-color: var(--sklearn-color-unfitted-level-0);\n",
              "}\n",
              "\n",
              "#sk-container-id-3 div.sk-toggleable__content.fitted pre {\n",
              "  /* unfitted */\n",
              "  background-color: var(--sklearn-color-fitted-level-0);\n",
              "}\n",
              "\n",
              "#sk-container-id-3 input.sk-toggleable__control:checked~div.sk-toggleable__content {\n",
              "  /* Expand drop-down */\n",
              "  max-height: 200px;\n",
              "  max-width: 100%;\n",
              "  overflow: auto;\n",
              "}\n",
              "\n",
              "#sk-container-id-3 input.sk-toggleable__control:checked~label.sk-toggleable__label-arrow:before {\n",
              "  content: \"▾\";\n",
              "}\n",
              "\n",
              "/* Pipeline/ColumnTransformer-specific style */\n",
              "\n",
              "#sk-container-id-3 div.sk-label input.sk-toggleable__control:checked~label.sk-toggleable__label {\n",
              "  color: var(--sklearn-color-text);\n",
              "  background-color: var(--sklearn-color-unfitted-level-2);\n",
              "}\n",
              "\n",
              "#sk-container-id-3 div.sk-label.fitted input.sk-toggleable__control:checked~label.sk-toggleable__label {\n",
              "  background-color: var(--sklearn-color-fitted-level-2);\n",
              "}\n",
              "\n",
              "/* Estimator-specific style */\n",
              "\n",
              "/* Colorize estimator box */\n",
              "#sk-container-id-3 div.sk-estimator input.sk-toggleable__control:checked~label.sk-toggleable__label {\n",
              "  /* unfitted */\n",
              "  background-color: var(--sklearn-color-unfitted-level-2);\n",
              "}\n",
              "\n",
              "#sk-container-id-3 div.sk-estimator.fitted input.sk-toggleable__control:checked~label.sk-toggleable__label {\n",
              "  /* fitted */\n",
              "  background-color: var(--sklearn-color-fitted-level-2);\n",
              "}\n",
              "\n",
              "#sk-container-id-3 div.sk-label label.sk-toggleable__label,\n",
              "#sk-container-id-3 div.sk-label label {\n",
              "  /* The background is the default theme color */\n",
              "  color: var(--sklearn-color-text-on-default-background);\n",
              "}\n",
              "\n",
              "/* On hover, darken the color of the background */\n",
              "#sk-container-id-3 div.sk-label:hover label.sk-toggleable__label {\n",
              "  color: var(--sklearn-color-text);\n",
              "  background-color: var(--sklearn-color-unfitted-level-2);\n",
              "}\n",
              "\n",
              "/* Label box, darken color on hover, fitted */\n",
              "#sk-container-id-3 div.sk-label.fitted:hover label.sk-toggleable__label.fitted {\n",
              "  color: var(--sklearn-color-text);\n",
              "  background-color: var(--sklearn-color-fitted-level-2);\n",
              "}\n",
              "\n",
              "/* Estimator label */\n",
              "\n",
              "#sk-container-id-3 div.sk-label label {\n",
              "  font-family: monospace;\n",
              "  font-weight: bold;\n",
              "  display: inline-block;\n",
              "  line-height: 1.2em;\n",
              "}\n",
              "\n",
              "#sk-container-id-3 div.sk-label-container {\n",
              "  text-align: center;\n",
              "}\n",
              "\n",
              "/* Estimator-specific */\n",
              "#sk-container-id-3 div.sk-estimator {\n",
              "  font-family: monospace;\n",
              "  border: 1px dotted var(--sklearn-color-border-box);\n",
              "  border-radius: 0.25em;\n",
              "  box-sizing: border-box;\n",
              "  margin-bottom: 0.5em;\n",
              "  /* unfitted */\n",
              "  background-color: var(--sklearn-color-unfitted-level-0);\n",
              "}\n",
              "\n",
              "#sk-container-id-3 div.sk-estimator.fitted {\n",
              "  /* fitted */\n",
              "  background-color: var(--sklearn-color-fitted-level-0);\n",
              "}\n",
              "\n",
              "/* on hover */\n",
              "#sk-container-id-3 div.sk-estimator:hover {\n",
              "  /* unfitted */\n",
              "  background-color: var(--sklearn-color-unfitted-level-2);\n",
              "}\n",
              "\n",
              "#sk-container-id-3 div.sk-estimator.fitted:hover {\n",
              "  /* fitted */\n",
              "  background-color: var(--sklearn-color-fitted-level-2);\n",
              "}\n",
              "\n",
              "/* Specification for estimator info (e.g. \"i\" and \"?\") */\n",
              "\n",
              "/* Common style for \"i\" and \"?\" */\n",
              "\n",
              ".sk-estimator-doc-link,\n",
              "a:link.sk-estimator-doc-link,\n",
              "a:visited.sk-estimator-doc-link {\n",
              "  float: right;\n",
              "  font-size: smaller;\n",
              "  line-height: 1em;\n",
              "  font-family: monospace;\n",
              "  background-color: var(--sklearn-color-background);\n",
              "  border-radius: 1em;\n",
              "  height: 1em;\n",
              "  width: 1em;\n",
              "  text-decoration: none !important;\n",
              "  margin-left: 0.5em;\n",
              "  text-align: center;\n",
              "  /* unfitted */\n",
              "  border: var(--sklearn-color-unfitted-level-1) 1pt solid;\n",
              "  color: var(--sklearn-color-unfitted-level-1);\n",
              "}\n",
              "\n",
              ".sk-estimator-doc-link.fitted,\n",
              "a:link.sk-estimator-doc-link.fitted,\n",
              "a:visited.sk-estimator-doc-link.fitted {\n",
              "  /* fitted */\n",
              "  border: var(--sklearn-color-fitted-level-1) 1pt solid;\n",
              "  color: var(--sklearn-color-fitted-level-1);\n",
              "}\n",
              "\n",
              "/* On hover */\n",
              "div.sk-estimator:hover .sk-estimator-doc-link:hover,\n",
              ".sk-estimator-doc-link:hover,\n",
              "div.sk-label-container:hover .sk-estimator-doc-link:hover,\n",
              ".sk-estimator-doc-link:hover {\n",
              "  /* unfitted */\n",
              "  background-color: var(--sklearn-color-unfitted-level-3);\n",
              "  color: var(--sklearn-color-background);\n",
              "  text-decoration: none;\n",
              "}\n",
              "\n",
              "div.sk-estimator.fitted:hover .sk-estimator-doc-link.fitted:hover,\n",
              ".sk-estimator-doc-link.fitted:hover,\n",
              "div.sk-label-container:hover .sk-estimator-doc-link.fitted:hover,\n",
              ".sk-estimator-doc-link.fitted:hover {\n",
              "  /* fitted */\n",
              "  background-color: var(--sklearn-color-fitted-level-3);\n",
              "  color: var(--sklearn-color-background);\n",
              "  text-decoration: none;\n",
              "}\n",
              "\n",
              "/* Span, style for the box shown on hovering the info icon */\n",
              ".sk-estimator-doc-link span {\n",
              "  display: none;\n",
              "  z-index: 9999;\n",
              "  position: relative;\n",
              "  font-weight: normal;\n",
              "  right: .2ex;\n",
              "  padding: .5ex;\n",
              "  margin: .5ex;\n",
              "  width: min-content;\n",
              "  min-width: 20ex;\n",
              "  max-width: 50ex;\n",
              "  color: var(--sklearn-color-text);\n",
              "  box-shadow: 2pt 2pt 4pt #999;\n",
              "  /* unfitted */\n",
              "  background: var(--sklearn-color-unfitted-level-0);\n",
              "  border: .5pt solid var(--sklearn-color-unfitted-level-3);\n",
              "}\n",
              "\n",
              ".sk-estimator-doc-link.fitted span {\n",
              "  /* fitted */\n",
              "  background: var(--sklearn-color-fitted-level-0);\n",
              "  border: var(--sklearn-color-fitted-level-3);\n",
              "}\n",
              "\n",
              ".sk-estimator-doc-link:hover span {\n",
              "  display: block;\n",
              "}\n",
              "\n",
              "/* \"?\"-specific style due to the `<a>` HTML tag */\n",
              "\n",
              "#sk-container-id-3 a.estimator_doc_link {\n",
              "  float: right;\n",
              "  font-size: 1rem;\n",
              "  line-height: 1em;\n",
              "  font-family: monospace;\n",
              "  background-color: var(--sklearn-color-background);\n",
              "  border-radius: 1rem;\n",
              "  height: 1rem;\n",
              "  width: 1rem;\n",
              "  text-decoration: none;\n",
              "  /* unfitted */\n",
              "  color: var(--sklearn-color-unfitted-level-1);\n",
              "  border: var(--sklearn-color-unfitted-level-1) 1pt solid;\n",
              "}\n",
              "\n",
              "#sk-container-id-3 a.estimator_doc_link.fitted {\n",
              "  /* fitted */\n",
              "  border: var(--sklearn-color-fitted-level-1) 1pt solid;\n",
              "  color: var(--sklearn-color-fitted-level-1);\n",
              "}\n",
              "\n",
              "/* On hover */\n",
              "#sk-container-id-3 a.estimator_doc_link:hover {\n",
              "  /* unfitted */\n",
              "  background-color: var(--sklearn-color-unfitted-level-3);\n",
              "  color: var(--sklearn-color-background);\n",
              "  text-decoration: none;\n",
              "}\n",
              "\n",
              "#sk-container-id-3 a.estimator_doc_link.fitted:hover {\n",
              "  /* fitted */\n",
              "  background-color: var(--sklearn-color-fitted-level-3);\n",
              "}\n",
              "</style><div id=\"sk-container-id-3\" class=\"sk-top-container\"><div class=\"sk-text-repr-fallback\"><pre>KNeighborsClassifier()</pre><b>In a Jupyter environment, please rerun this cell to show the HTML representation or trust the notebook. <br />On GitHub, the HTML representation is unable to render, please try loading this page with nbviewer.org.</b></div><div class=\"sk-container\" hidden><div class=\"sk-item\"><div class=\"sk-estimator fitted sk-toggleable\"><input class=\"sk-toggleable__control sk-hidden--visually\" id=\"sk-estimator-id-3\" type=\"checkbox\" checked><label for=\"sk-estimator-id-3\" class=\"sk-toggleable__label fitted sk-toggleable__label-arrow\"><div><div>KNeighborsClassifier</div></div><div><a class=\"sk-estimator-doc-link fitted\" rel=\"noreferrer\" target=\"_blank\" href=\"https://scikit-learn.org/1.6/modules/generated/sklearn.neighbors.KNeighborsClassifier.html\">?<span>Documentation for KNeighborsClassifier</span></a><span class=\"sk-estimator-doc-link fitted\">i<span>Fitted</span></span></div></label><div class=\"sk-toggleable__content fitted\"><pre>KNeighborsClassifier()</pre></div> </div></div></div></div>"
            ]
          },
          "metadata": {},
          "execution_count": 82
        }
      ]
    },
    {
      "cell_type": "code",
      "source": [
        "y_pred = knn_clf.predict(val_x)\n",
        "accuracy = accuracy_score(val_y, y_pred)\n",
        "print(\"Accuracy:\", accuracy)\n",
        "print(classification_report(val_y, y_pred))"
      ],
      "metadata": {
        "colab": {
          "base_uri": "https://localhost:8080/"
        },
        "id": "T2gQWOn_JJ81",
        "outputId": "3f43508e-7aed-4a5e-dfde-9292c577a0b2"
      },
      "execution_count": null,
      "outputs": [
        {
          "output_type": "stream",
          "name": "stdout",
          "text": [
            "Accuracy: 0.9732168351322026\n",
            "              precision    recall  f1-score   support\n",
            "\n",
            "         0.0       0.98      0.99      0.99     14515\n",
            "         1.0       0.91      0.68      0.78       439\n",
            "         2.0       0.93      0.89      0.91      1161\n",
            "         3.0       0.81      0.67      0.73       123\n",
            "         4.0       0.99      0.95      0.97      1273\n",
            "\n",
            "    accuracy                           0.97     17511\n",
            "   macro avg       0.92      0.84      0.87     17511\n",
            "weighted avg       0.97      0.97      0.97     17511\n",
            "\n"
          ]
        }
      ]
    },
    {
      "cell_type": "markdown",
      "source": [
        "- Recall is really not so bad, but could be better. We want to maximize this."
      ],
      "metadata": {
        "id": "9mJSEv0uJrab"
      }
    },
    {
      "cell_type": "code",
      "source": [
        "## Using KNN with distance weights\n",
        "\n",
        "knn_clf=knn = KNeighborsClassifier(n_neighbors=5,weights=\"distance\")\n",
        "knn_clf.fit(train_x, train_y)\n",
        "\n",
        "y_pred = knn_clf.predict(val_x)\n",
        "accuracy = accuracy_score(val_y, y_pred)\n",
        "print(\"Accuracy:\", accuracy)\n",
        "print(classification_report(val_y, y_pred))\n"
      ],
      "metadata": {
        "colab": {
          "base_uri": "https://localhost:8080/"
        },
        "id": "b_uglIeDJ14i",
        "outputId": "a21604da-2c3a-4619-9934-9ef7839268be"
      },
      "execution_count": null,
      "outputs": [
        {
          "output_type": "stream",
          "name": "stdout",
          "text": [
            "Accuracy: 0.9743589743589743\n",
            "              precision    recall  f1-score   support\n",
            "\n",
            "         0.0       0.98      0.99      0.99     14515\n",
            "         1.0       0.92      0.69      0.79       439\n",
            "         2.0       0.93      0.91      0.92      1161\n",
            "         3.0       0.80      0.67      0.73       123\n",
            "         4.0       0.99      0.95      0.97      1273\n",
            "\n",
            "    accuracy                           0.97     17511\n",
            "   macro avg       0.92      0.84      0.88     17511\n",
            "weighted avg       0.97      0.97      0.97     17511\n",
            "\n"
          ]
        }
      ]
    },
    {
      "cell_type": "markdown",
      "source": [
        "- Didn't help much\n",
        "- Try to tune the n_neighbors param"
      ],
      "metadata": {
        "id": "_bVL0ZgHKKUd"
      }
    },
    {
      "cell_type": "code",
      "source": [
        "nn_vals=[3, 5, 9, 15, 29] # nn values to try\n",
        "class_report_dict={}\n",
        "\n",
        "for nn in nn_vals:\n",
        "\n",
        "  knn_clf=knn = KNeighborsClassifier(n_neighbors=nn,weights=\"distance\")\n",
        "  tuned_knn=knn_clf.fit(train_x, train_y)\n",
        "  tuned_knn.fit(train_x,train_y)\n",
        "  y_pred = tuned_knn.predict(val_x)\n",
        "\n",
        "  class_report_dict[nn]=classification_report(val_y, y_pred)\n"
      ],
      "metadata": {
        "id": "5ewl1GN8KQt5"
      },
      "execution_count": null,
      "outputs": []
    },
    {
      "cell_type": "code",
      "source": [
        "for nn in class_report_dict:\n",
        "  print(\"Neighbors\",nn)\n",
        "  print(class_report_dict[nn])"
      ],
      "metadata": {
        "colab": {
          "base_uri": "https://localhost:8080/"
        },
        "id": "EAJyXgMQLakw",
        "outputId": "da0a83ef-1407-428b-eca1-4f7f1a27d12e"
      },
      "execution_count": null,
      "outputs": [
        {
          "output_type": "stream",
          "name": "stdout",
          "text": [
            "Neighbors 3\n",
            "              precision    recall  f1-score   support\n",
            "\n",
            "         0.0       0.98      0.99      0.99     14515\n",
            "         1.0       0.90      0.71      0.79       439\n",
            "         2.0       0.93      0.92      0.92      1161\n",
            "         3.0       0.80      0.72      0.76       123\n",
            "         4.0       0.99      0.96      0.97      1273\n",
            "\n",
            "    accuracy                           0.98     17511\n",
            "   macro avg       0.92      0.86      0.89     17511\n",
            "weighted avg       0.98      0.98      0.98     17511\n",
            "\n",
            "Neighbors 5\n",
            "              precision    recall  f1-score   support\n",
            "\n",
            "         0.0       0.98      0.99      0.99     14515\n",
            "         1.0       0.92      0.69      0.79       439\n",
            "         2.0       0.93      0.91      0.92      1161\n",
            "         3.0       0.80      0.67      0.73       123\n",
            "         4.0       0.99      0.95      0.97      1273\n",
            "\n",
            "    accuracy                           0.97     17511\n",
            "   macro avg       0.92      0.84      0.88     17511\n",
            "weighted avg       0.97      0.97      0.97     17511\n",
            "\n",
            "Neighbors 9\n",
            "              precision    recall  f1-score   support\n",
            "\n",
            "         0.0       0.98      0.99      0.98     14515\n",
            "         1.0       0.89      0.64      0.75       439\n",
            "         2.0       0.93      0.89      0.91      1161\n",
            "         3.0       0.81      0.67      0.74       123\n",
            "         4.0       0.98      0.94      0.96      1273\n",
            "\n",
            "    accuracy                           0.97     17511\n",
            "   macro avg       0.92      0.83      0.87     17511\n",
            "weighted avg       0.97      0.97      0.97     17511\n",
            "\n",
            "Neighbors 15\n",
            "              precision    recall  f1-score   support\n",
            "\n",
            "         0.0       0.97      0.99      0.98     14515\n",
            "         1.0       0.89      0.63      0.74       439\n",
            "         2.0       0.93      0.86      0.90      1161\n",
            "         3.0       0.77      0.59      0.67       123\n",
            "         4.0       0.98      0.93      0.96      1273\n",
            "\n",
            "    accuracy                           0.97     17511\n",
            "   macro avg       0.91      0.80      0.85     17511\n",
            "weighted avg       0.97      0.97      0.97     17511\n",
            "\n",
            "Neighbors 29\n",
            "              precision    recall  f1-score   support\n",
            "\n",
            "         0.0       0.97      0.99      0.98     14515\n",
            "         1.0       0.85      0.62      0.72       439\n",
            "         2.0       0.92      0.82      0.87      1161\n",
            "         3.0       0.75      0.57      0.65       123\n",
            "         4.0       0.98      0.92      0.95      1273\n",
            "\n",
            "    accuracy                           0.96     17511\n",
            "   macro avg       0.89      0.79      0.83     17511\n",
            "weighted avg       0.96      0.96      0.96     17511\n",
            "\n"
          ]
        }
      ]
    },
    {
      "cell_type": "markdown",
      "source": [
        "- Seems like, to minimze recall, our value for nn should be 3."
      ],
      "metadata": {
        "id": "trTAVqdPL7_5"
      }
    },
    {
      "cell_type": "code",
      "source": [
        "knn = KNeighborsClassifier(n_neighbors = 3,weights = \"distance\")\n",
        "tuned_knn = knn.fit(train_x, train_y)\n",
        "y_pred = tuned_knn.predict(val_x)"
      ],
      "metadata": {
        "id": "X99LWP3OJmtY"
      },
      "execution_count": null,
      "outputs": []
    },
    {
      "cell_type": "code",
      "source": [
        "print(\"\\n\\t\\t-- Classification Report --\\n\")\n",
        "print(classification_report(val_y, y_pred))"
      ],
      "metadata": {
        "colab": {
          "base_uri": "https://localhost:8080/"
        },
        "id": "4WqDzxqELS-z",
        "outputId": "5151d70d-0adc-46eb-bfb7-2383642eecd8"
      },
      "execution_count": null,
      "outputs": [
        {
          "output_type": "stream",
          "name": "stdout",
          "text": [
            "\n",
            "\t\t-- Classification Report --\n",
            "\n",
            "              precision    recall  f1-score   support\n",
            "\n",
            "         0.0       0.98      0.99      0.99     14515\n",
            "         1.0       0.90      0.71      0.79       439\n",
            "         2.0       0.93      0.92      0.92      1161\n",
            "         3.0       0.80      0.72      0.76       123\n",
            "         4.0       0.99      0.96      0.97      1273\n",
            "\n",
            "    accuracy                           0.98     17511\n",
            "   macro avg       0.92      0.86      0.89     17511\n",
            "weighted avg       0.98      0.98      0.98     17511\n",
            "\n"
          ]
        }
      ]
    },
    {
      "cell_type": "code",
      "source": [
        "# Creates the confusion matrix and creates a heatmap for the predictions using said CM\n",
        "cm = confusion_matrix(val_y, y_pred)\n",
        "class_labels = [\"Normal\", \"SVPB\", \"VPB\", \"Fusion\", \"Unclassified\"]\n",
        "sns.heatmap(cm, annot = True, fmt = \"g\", xticklabels = class_labels, yticklabels = class_labels)\n",
        "plt.xlabel(\"Predicted\")\n",
        "plt.ylabel(\"Actual\")\n",
        "plt.title(\"KNN Classification Confusion Matrix\")"
      ],
      "metadata": {
        "colab": {
          "base_uri": "https://localhost:8080/",
          "height": 488
        },
        "id": "Pxe1f3lMK_2x",
        "outputId": "f019f307-5497-4844-ee7e-0e8b39ec21fc"
      },
      "execution_count": null,
      "outputs": [
        {
          "output_type": "execute_result",
          "data": {
            "text/plain": [
              "Text(0.5, 1.0, 'KNN Classification Confusion Matrix')"
            ]
          },
          "metadata": {},
          "execution_count": 7
        },
        {
          "output_type": "display_data",
          "data": {
            "text/plain": [
              "<Figure size 640x480 with 2 Axes>"
            ],
            "image/png": "[encoded data removed]"
          },
          "metadata": {}
        }
      ]
    },
    {
      "cell_type": "markdown",
      "source": [
        "### Testing KNN on Test set"
      ],
      "metadata": {
        "id": "JI-IV_qwqBOw"
      }
    },
    {
      "cell_type": "code",
      "source": [
        "test_y_pred = tuned_knn.predict(test_vals)\n",
        "test_labels\n",
        "print(\"\\n\\t\\t-- Classification Report --\\n\")\n",
        "print(classification_report(test_labels, test_y_pred))"
      ],
      "metadata": {
        "colab": {
          "base_uri": "https://localhost:8080/"
        },
        "id": "ZQh-d2pOqEhM",
        "outputId": "690868d4-0116-4e24-83bf-26f2d6430d66"
      },
      "execution_count": null,
      "outputs": [
        {
          "output_type": "stream",
          "name": "stdout",
          "text": [
            "\n",
            "\t\t-- Classification Report --\n",
            "\n",
            "              precision    recall  f1-score   support\n",
            "\n",
            "         0.0       0.98      0.99      0.99     18118\n",
            "         1.0       0.87      0.68      0.76       556\n",
            "         2.0       0.94      0.91      0.93      1448\n",
            "         3.0       0.79      0.68      0.73       162\n",
            "         4.0       0.99      0.96      0.97      1608\n",
            "\n",
            "    accuracy                           0.98     21892\n",
            "   macro avg       0.91      0.84      0.88     21892\n",
            "weighted avg       0.97      0.98      0.97     21892\n",
            "\n"
          ]
        }
      ]
    },
    {
      "cell_type": "code",
      "source": [
        "# Creates the confusion matrix and creates a heatmap for the predictions using said CM\n",
        "cm = confusion_matrix(test_labels, test_y_pred)\n",
        "class_labels = [\"Normal\", \"SVPB\", \"VPB\", \"Fusion\", \"Unclassified\"]\n",
        "sns.heatmap(cm, annot = True, fmt = \"g\", xticklabels = class_labels, yticklabels = class_labels)\n",
        "plt.xlabel(\"Predicted\")\n",
        "plt.ylabel(\"Actual\")\n",
        "plt.title(\"KNN Classification Confusion Matrix\")"
      ],
      "metadata": {
        "colab": {
          "base_uri": "https://localhost:8080/",
          "height": 488
        },
        "id": "M-er4O77qlMc",
        "outputId": "84f9b5b9-3d8c-427c-8287-49e4d6b1881f"
      },
      "execution_count": null,
      "outputs": [
        {
          "output_type": "execute_result",
          "data": {
            "text/plain": [
              "Text(0.5, 1.0, 'KNN Classification Confusion Matrix')"
            ]
          },
          "metadata": {},
          "execution_count": 9
        },
        {
          "output_type": "display_data",
          "data": {
            "text/plain": [
              "<Figure size 640x480 with 2 Axes>"
            ],
            "image/png": "[encoded data removed]"
          },
          "metadata": {}
        }
      ]
    },
    {
      "cell_type": "markdown",
      "source": [
        "## Random Forest"
      ],
      "metadata": {
        "id": "AhJEaA3NDWTx"
      }
    },
    {
      "cell_type": "code",
      "source": [
        "rf_clf = RandomForestClassifier(n_estimators=10)\n",
        "rf_clf = rf_clf.fit(train_x,train_y)"
      ],
      "metadata": {
        "id": "ZQnhTU-o5cLr"
      },
      "execution_count": null,
      "outputs": []
    },
    {
      "cell_type": "code",
      "source": [
        "y_pred = rf_clf.predict(val_x)\n",
        "accuracy = accuracy_score(val_y, y_pred)\n",
        "print(\"Accuracy:\", accuracy)\n",
        "print(classification_report(val_y, y_pred))"
      ],
      "metadata": {
        "colab": {
          "base_uri": "https://localhost:8080/"
        },
        "id": "biDMzJ_ZCBq3",
        "outputId": "020f0904-9402-41a7-84ac-293c2d208b90"
      },
      "execution_count": null,
      "outputs": [
        {
          "output_type": "stream",
          "name": "stdout",
          "text": [
            "Accuracy: 0.9724744446348009\n",
            "              precision    recall  f1-score   support\n",
            "\n",
            "         0.0       0.97      1.00      0.98     14515\n",
            "         1.0       0.96      0.60      0.74       439\n",
            "         2.0       0.96      0.87      0.92      1161\n",
            "         3.0       0.90      0.53      0.67       123\n",
            "         4.0       0.99      0.95      0.97      1273\n",
            "\n",
            "    accuracy                           0.97     17511\n",
            "   macro avg       0.96      0.79      0.85     17511\n",
            "weighted avg       0.97      0.97      0.97     17511\n",
            "\n"
          ]
        }
      ]
    },
    {
      "cell_type": "markdown",
      "source": [
        "Recall is fairly low for classes 1 and 3."
      ],
      "metadata": {
        "id": "XRAQsnTEC-_f"
      }
    },
    {
      "cell_type": "code",
      "source": [
        "# Compute confusion matrix\n",
        "cm = confusion_matrix(val_y, y_pred)\n",
        "\n",
        "# Plot the confusion matrix\n",
        "plt.figure(figsize=(6,5))\n",
        "sns.heatmap(cm, annot=True, fmt=\"d\", cmap=\"Blues\", xticklabels=set(val_y), yticklabels=set(val_y))\n",
        "plt.xlabel(\"Predicted\")\n",
        "plt.ylabel(\"Actual\")\n",
        "plt.title(\"Confusion Matrix\")\n",
        "plt.show()\n"
      ],
      "metadata": {
        "colab": {
          "base_uri": "https://localhost:8080/",
          "height": 487
        },
        "id": "cDCMZ3ZyCeUc",
        "outputId": "d0ff271a-2724-4044-ca6f-a2c090cb3c69"
      },
      "execution_count": null,
      "outputs": [
        {
          "output_type": "display_data",
          "data": {
            "text/plain": [
              "<Figure size 600x500 with 2 Axes>"
            ],
            "image/png": "[encoded data removed]"
          },
          "metadata": {}
        }
      ]
    },
    {
      "cell_type": "markdown",
      "source": [
        "- It is important to make maximize recall in this case--it is generally worse to predict an abnormal heart beat as normal, vs predicting a normal heartbeat as abnormal\n",
        "- Adjusting weights in random forest, will penalize misclassifying rarer instances more"
      ],
      "metadata": {
        "id": "iUE936PiDZ4G"
      }
    },
    {
      "cell_type": "code",
      "source": [
        "rf_clf_weight_balance = RandomForestClassifier(class_weight=\"balanced\", n_estimators=10)\n",
        "rf_clf_weight_balance  = rf_clf_weight_balance.fit(train_x,train_y)"
      ],
      "metadata": {
        "id": "FsicKgNsEj-h"
      },
      "execution_count": null,
      "outputs": []
    },
    {
      "cell_type": "code",
      "source": [
        "y_pred = rf_clf_weight_balance.predict(val_x)\n",
        "accuracy = accuracy_score(val_y, y_pred)\n",
        "print(\"Accuracy:\", accuracy)\n",
        "print(classification_report(val_y, y_pred))"
      ],
      "metadata": {
        "colab": {
          "base_uri": "https://localhost:8080/"
        },
        "id": "johEAeCmEtWE",
        "outputId": "cfa1b00a-3f96-48b7-d49d-4af3b28fc78c"
      },
      "execution_count": null,
      "outputs": [
        {
          "output_type": "stream",
          "name": "stdout",
          "text": [
            "Accuracy: 0.9716178402147222\n",
            "              precision    recall  f1-score   support\n",
            "\n",
            "         0.0       0.97      1.00      0.98     14515\n",
            "         1.0       0.96      0.60      0.74       439\n",
            "         2.0       0.98      0.85      0.91      1161\n",
            "         3.0       0.92      0.58      0.71       123\n",
            "         4.0       1.00      0.94      0.97      1273\n",
            "\n",
            "    accuracy                           0.97     17511\n",
            "   macro avg       0.97      0.79      0.86     17511\n",
            "weighted avg       0.97      0.97      0.97     17511\n",
            "\n"
          ]
        }
      ]
    },
    {
      "cell_type": "markdown",
      "source": [
        "- This was not so different. Let's try tuning the weights for class_weight"
      ],
      "metadata": {
        "id": "IXTXQSV0FKhz"
      }
    },
    {
      "cell_type": "code",
      "source": [
        "weight_vals=[5, 25, 50, 250, 750,1000] # weight values to try\n",
        "class_report_dict={}\n",
        "\n",
        "for weight in weight_vals:\n",
        "\n",
        "  weights_dict={0: 1, 1: weight, 2: weight, 3:weight}\n",
        "  tuned_rf = RandomForestClassifier(class_weight=weights_dict, n_estimators=10)\n",
        "  tuned_rf.fit(train_x,train_y)\n",
        "  y_pred = tuned_rf.predict(val_x)\n",
        "\n",
        "  class_report_dict[weight]=classification_report(val_y, y_pred)\n",
        "\n",
        "\n",
        "\n"
      ],
      "metadata": {
        "id": "gle8ZmzDFVwV"
      },
      "execution_count": null,
      "outputs": []
    },
    {
      "cell_type": "code",
      "source": [
        "for weight in class_report_dict:\n",
        "  print(\"Weight\",weight)\n",
        "  print(class_report_dict[weight])"
      ],
      "metadata": {
        "colab": {
          "base_uri": "https://localhost:8080/"
        },
        "id": "bjhR_bUkHJsL",
        "outputId": "f293b517-fd0d-4b17-d249-8653eaf5bc2e"
      },
      "execution_count": null,
      "outputs": [
        {
          "output_type": "stream",
          "name": "stdout",
          "text": [
            "Weight 5\n",
            "              precision    recall  f1-score   support\n",
            "\n",
            "         0.0       0.97      1.00      0.98     14515\n",
            "         1.0       0.96      0.61      0.75       439\n",
            "         2.0       0.98      0.86      0.91      1161\n",
            "         3.0       0.90      0.51      0.65       123\n",
            "         4.0       0.99      0.94      0.97      1273\n",
            "\n",
            "    accuracy                           0.97     17511\n",
            "   macro avg       0.96      0.78      0.85     17511\n",
            "weighted avg       0.97      0.97      0.97     17511\n",
            "\n",
            "Weight 25\n",
            "              precision    recall  f1-score   support\n",
            "\n",
            "         0.0       0.97      1.00      0.98     14515\n",
            "         1.0       0.95      0.62      0.75       439\n",
            "         2.0       0.98      0.87      0.92      1161\n",
            "         3.0       0.90      0.56      0.69       123\n",
            "         4.0       1.00      0.94      0.97      1273\n",
            "\n",
            "    accuracy                           0.97     17511\n",
            "   macro avg       0.96      0.80      0.86     17511\n",
            "weighted avg       0.97      0.97      0.97     17511\n",
            "\n",
            "Weight 50\n",
            "              precision    recall  f1-score   support\n",
            "\n",
            "         0.0       0.97      1.00      0.98     14515\n",
            "         1.0       0.95      0.61      0.75       439\n",
            "         2.0       0.98      0.85      0.91      1161\n",
            "         3.0       0.90      0.50      0.65       123\n",
            "         4.0       0.99      0.94      0.97      1273\n",
            "\n",
            "    accuracy                           0.97     17511\n",
            "   macro avg       0.96      0.78      0.85     17511\n",
            "weighted avg       0.97      0.97      0.97     17511\n",
            "\n",
            "Weight 250\n",
            "              precision    recall  f1-score   support\n",
            "\n",
            "         0.0       0.97      1.00      0.98     14515\n",
            "         1.0       0.96      0.61      0.74       439\n",
            "         2.0       0.98      0.84      0.91      1161\n",
            "         3.0       0.92      0.54      0.68       123\n",
            "         4.0       0.99      0.92      0.95      1273\n",
            "\n",
            "    accuracy                           0.97     17511\n",
            "   macro avg       0.96      0.78      0.85     17511\n",
            "weighted avg       0.97      0.97      0.97     17511\n",
            "\n",
            "Weight 750\n",
            "              precision    recall  f1-score   support\n",
            "\n",
            "         0.0       0.97      1.00      0.98     14515\n",
            "         1.0       0.96      0.59      0.73       439\n",
            "         2.0       0.98      0.83      0.89      1161\n",
            "         3.0       0.91      0.50      0.65       123\n",
            "         4.0       0.99      0.93      0.96      1273\n",
            "\n",
            "    accuracy                           0.97     17511\n",
            "   macro avg       0.96      0.77      0.84     17511\n",
            "weighted avg       0.97      0.97      0.97     17511\n",
            "\n",
            "Weight 1000\n",
            "              precision    recall  f1-score   support\n",
            "\n",
            "         0.0       0.97      1.00      0.98     14515\n",
            "         1.0       0.98      0.59      0.73       439\n",
            "         2.0       0.98      0.83      0.90      1161\n",
            "         3.0       0.88      0.54      0.67       123\n",
            "         4.0       0.99      0.92      0.96      1273\n",
            "\n",
            "    accuracy                           0.97     17511\n",
            "   macro avg       0.96      0.77      0.85     17511\n",
            "weighted avg       0.97      0.97      0.97     17511\n",
            "\n"
          ]
        }
      ]
    },
    {
      "cell_type": "markdown",
      "source": [
        "- Doesn't seem like this is is helping too much\n",
        "- Other approaches could include over/under samping to make the class distributions more even."
      ],
      "metadata": {
        "id": "GMxNRleMIliJ"
      }
    },
    {
      "cell_type": "code",
      "source": [
        "rf_clf_weight_balance = RandomForestClassifier(class_weight=\"balanced\", n_estimators=10)\n",
        "rf_clf_weight_balance  = rf_clf_weight_balance.fit(train_x,train_y)\n",
        "y_pred = rf_clf_weight_balance.predict(val_x)\n",
        "print(\"\\n\\t\\t-- Classification Report --\\n\")\n",
        "print(classification_report(val_y, y_pred))"
      ],
      "metadata": {
        "colab": {
          "base_uri": "https://localhost:8080/"
        },
        "id": "0WBhB0VfMILe",
        "outputId": "5a39f985-c0a4-45bb-f845-02a4931a9a26"
      },
      "execution_count": null,
      "outputs": [
        {
          "output_type": "stream",
          "name": "stdout",
          "text": [
            "\n",
            "\t\t-- Classification Report --\n",
            "\n",
            "              precision    recall  f1-score   support\n",
            "\n",
            "         0.0       0.97      1.00      0.98     14515\n",
            "         1.0       0.95      0.61      0.74       439\n",
            "         2.0       0.97      0.85      0.91      1161\n",
            "         3.0       0.86      0.57      0.69       123\n",
            "         4.0       1.00      0.94      0.97      1273\n",
            "\n",
            "    accuracy                           0.97     17511\n",
            "   macro avg       0.95      0.79      0.86     17511\n",
            "weighted avg       0.97      0.97      0.97     17511\n",
            "\n"
          ]
        }
      ]
    },
    {
      "cell_type": "code",
      "source": [
        "# Creates the confusion matrix and creates a heatmap for the predictions using said CM\n",
        "cm = confusion_matrix(val_y, y_pred)\n",
        "class_labels = [\"Normal\", \"SVPB\", \"VPB\", \"Fusion\", \"Unclassified\"]\n",
        "sns.heatmap(cm, annot = True, fmt = \"g\", xticklabels = class_labels, yticklabels = class_labels)\n",
        "plt.xlabel(\"Predicted\")\n",
        "plt.ylabel(\"Actual\")\n",
        "plt.title(\"Random Forest Classification Confusion Matrix\")"
      ],
      "metadata": {
        "colab": {
          "base_uri": "https://localhost:8080/",
          "height": 489
        },
        "id": "d4nH6CdDNUfU",
        "outputId": "ada708ce-0a58-49d7-b0d2-b0c8efaa766f"
      },
      "execution_count": null,
      "outputs": [
        {
          "output_type": "execute_result",
          "data": {
            "text/plain": [
              "Text(0.5, 1.0, 'Random Forest Classification Confusion Matrix')"
            ]
          },
          "metadata": {},
          "execution_count": 13
        },
        {
          "output_type": "display_data",
          "data": {
            "text/plain": [
              "<Figure size 640x480 with 2 Axes>"
            ],
            "image/png": "[encoded data removed]"
          },
          "metadata": {}
        }
      ]
    },
    {
      "cell_type": "markdown",
      "source": [
        "## Support Vector Machines"
      ],
      "metadata": {
        "id": "UrUIjIQEMCmz"
      }
    },
    {
      "cell_type": "code",
      "source": [
        "svc_clf= SVC()\n",
        "svc_clf=svc_clf.fit(train_x,train_y)"
      ],
      "metadata": {
        "id": "srOdXKY6M2sw"
      },
      "execution_count": null,
      "outputs": []
    },
    {
      "cell_type": "code",
      "source": [
        "y_pred = svc_clf.predict(val_x)\n",
        "accuracy = accuracy_score(val_y, y_pred)\n",
        "print(\"Accuracy:\", accuracy)\n",
        "print(classification_report(val_y, y_pred))"
      ],
      "metadata": {
        "colab": {
          "base_uri": "https://localhost:8080/"
        },
        "id": "wfzcEURIOVRQ",
        "outputId": "f578c8ce-dd97-48aa-dcad-e05906f2cb76"
      },
      "execution_count": null,
      "outputs": [
        {
          "output_type": "stream",
          "name": "stdout",
          "text": [
            "Accuracy: 0.9667066415396037\n",
            "              precision    recall  f1-score   support\n",
            "\n",
            "         0.0       0.97      1.00      0.98     14515\n",
            "         1.0       0.94      0.59      0.72       439\n",
            "         2.0       0.97      0.86      0.91      1161\n",
            "         3.0       0.73      0.46      0.57       123\n",
            "         4.0       0.99      0.90      0.94      1273\n",
            "\n",
            "    accuracy                           0.97     17511\n",
            "   macro avg       0.92      0.76      0.82     17511\n",
            "weighted avg       0.97      0.97      0.96     17511\n",
            "\n"
          ]
        }
      ]
    },
    {
      "cell_type": "markdown",
      "source": [
        "- Very low recall, not so good.\n",
        "- Hyperparams could be played with here, but it took a while to train so I'm going to try something else"
      ],
      "metadata": {
        "id": "R9LNhciSPcIW"
      }
    },
    {
      "cell_type": "code",
      "source": [
        "print(\"\\n\\t\\t-- Classification Report --\\n\")\n",
        "print(classification_report(val_y, y_pred))"
      ],
      "metadata": {
        "colab": {
          "base_uri": "https://localhost:8080/"
        },
        "id": "yv_wUbELOJlf",
        "outputId": "413a8bc5-49e5-429a-d4ac-46b6f3619f1f"
      },
      "execution_count": null,
      "outputs": [
        {
          "output_type": "stream",
          "name": "stdout",
          "text": [
            "\n",
            "\t\t-- Classification Report --\n",
            "\n",
            "              precision    recall  f1-score   support\n",
            "\n",
            "         0.0       0.97      1.00      0.98     14515\n",
            "         1.0       0.94      0.59      0.72       439\n",
            "         2.0       0.97      0.86      0.91      1161\n",
            "         3.0       0.73      0.46      0.57       123\n",
            "         4.0       0.99      0.90      0.94      1273\n",
            "\n",
            "    accuracy                           0.97     17511\n",
            "   macro avg       0.92      0.76      0.82     17511\n",
            "weighted avg       0.97      0.97      0.96     17511\n",
            "\n"
          ]
        }
      ]
    },
    {
      "cell_type": "code",
      "source": [
        "# Creates the confusion matrix and creates a heatmap for the predictions using said CM\n",
        "cm = confusion_matrix(val_y, y_pred)\n",
        "class_labels = [\"Normal\", \"SVPB\", \"VPB\", \"Fusion\", \"Unclassified\"]\n",
        "sns.heatmap(cm, annot = True, fmt = \"g\", xticklabels = class_labels, yticklabels = class_labels)\n",
        "plt.xlabel(\"Predicted\")\n",
        "plt.ylabel(\"Actual\")\n",
        "plt.title(\"SVM Classification Confusion Matrix\")"
      ],
      "metadata": {
        "colab": {
          "base_uri": "https://localhost:8080/"
        },
        "id": "Sb1T5-7wOGgb",
        "outputId": "3ec8bb7d-b6a9-43a1-cc3d-749f60c74ad1"
      },
      "execution_count": null,
      "outputs": [
        {
          "output_type": "execute_result",
          "data": {
            "text/plain": [
              "Text(0.5, 1.0, 'SVM Classification Confusion Matrix')"
            ]
          },
          "metadata": {},
          "execution_count": 17
        },
        {
          "output_type": "display_data",
          "data": {
            "text/plain": [
              "<Figure size 640x480 with 2 Axes>"
            ],
            "image/png": "[encoded data removed]"
          },
          "metadata": {}
        }
      ]
    },
    {
      "cell_type": "markdown",
      "source": [
        "## Basic RNN"
      ],
      "metadata": {
        "id": "2KuIxHcwPlqD"
      }
    },
    {
      "cell_type": "code",
      "source": [
        "# Getting data into right shape for NN\n",
        "\n",
        "nn_x_train = torch.tensor(train_x.values).float()  # Convert to tensor and float\n",
        "nn_x_train = nn_x_train.unsqueeze(-1)  # Shape (70000, 187, 1) (adding 1 feature dimension)\n",
        "nn_x_val = torch.tensor(val_x.values).float()\n",
        "nn_x_val = nn_x_val.unsqueeze(-1)\n",
        "\n",
        "# Convert labels to tensor\n",
        "nn_y_train = torch.tensor(train_y.values).long()\n",
        "nn_y_val = torch.tensor(val_y.values).long()\n"
      ],
      "metadata": {
        "id": "IGiTbvpsSG4X"
      },
      "execution_count": null,
      "outputs": []
    },
    {
      "cell_type": "code",
      "source": [
        "## Compute class weights for imbalanced classes\n",
        "\n",
        "class_weights = compute_class_weight('balanced', classes=np.array([0,1,2,3,4]), y=train_y)\n",
        "print(class_weights)\n",
        "scaling_factor=1\n",
        "class_weights[-4:] *= scaling_factor\n",
        "class_weights = torch.tensor(class_weights, dtype=torch.float)\n",
        "class_weights=class_weights.to(device) # make sure they are on cuda for the later computation\n",
        "print(class_weights)\n"
      ],
      "metadata": {
        "colab": {
          "base_uri": "https://localhost:8080/"
        },
        "id": "QsG-qfBeO5_k",
        "outputId": "89521b56-74e1-4564-c3fd-ba99ef5a908b"
      },
      "execution_count": null,
      "outputs": [
        {
          "output_type": "stream",
          "name": "stdout",
          "text": [
            "[ 0.24171095  7.85235426  3.02757726 27.04362934  2.71589763]\n",
            "tensor([ 0.2417,  7.8524,  3.0276, 27.0436,  2.7159], device='cuda:0')\n"
          ]
        }
      ]
    },
    {
      "cell_type": "code",
      "source": [
        "class SimpleRNN(nn.Module):\n",
        "    def __init__(self, input_size):\n",
        "        super(SimpleRNN, self).__init__()\n",
        "\n",
        "        # Define the RNN layer\n",
        "        self.rnn = nn.RNN(input_size, 128, batch_first=True)\n",
        "\n",
        "        self.fc1 = nn.Linear(128, 512)\n",
        "        self.fc2 = nn.Linear(512, 1024)\n",
        "        self.fc3 = nn.Linear(1024, 1024)\n",
        "        self.fc4 = nn.Linear(1024, 5)\n",
        "\n",
        "        # Activation functions\n",
        "        self.relu = nn.ReLU()\n",
        "        self.dropout = nn.Dropout(0.3)\n",
        "        self.batch_norm1 = nn.BatchNorm1d(512)  # Batch normalization for hidden layer 1\n",
        "        self.batch_norm2 = nn.BatchNorm1d(1024)  # Batch normalization for hidden layer 2\n",
        "\n",
        "    def forward(self, x):\n",
        "        # Forward pass through the RNN\n",
        "        out, _ = self.rnn(x)\n",
        "\n",
        "        # Take the last output (last time step) for classification\n",
        "        out = out[:, -1, :]  # Extract the last time step\n",
        "\n",
        "        # Pass through fully connected layers with activation and batch normalization\n",
        "        out = self.relu(self.batch_norm1(self.fc1(out)))\n",
        "        out = self.dropout(out)\n",
        "        out = self.relu(self.batch_norm2(self.fc2(out)))\n",
        "        out = self.dropout(out)\n",
        "        out = self.relu(self.batch_norm2(self.fc3(out)))\n",
        "        out = self.dropout(out)\n",
        "        out = self.fc4(out)  # No activation before the final output layer\n",
        "\n",
        "        return out"
      ],
      "metadata": {
        "id": "l45ogemtPn0U"
      },
      "execution_count": null,
      "outputs": []
    },
    {
      "cell_type": "code",
      "source": [
        "input_size = 1  # ECG value per time step\n",
        "\n",
        "model = SimpleRNN(input_size)\n"
      ],
      "metadata": {
        "id": "lEB81KBvQJV9"
      },
      "execution_count": null,
      "outputs": []
    },
    {
      "cell_type": "code",
      "source": [
        "criterion = nn.CrossEntropyLoss(weight=class_weights)\n",
        "optimizer = optim.Adam(model.parameters(), lr=0.0001)\n"
      ],
      "metadata": {
        "id": "WtlJ47ozQPnu"
      },
      "execution_count": null,
      "outputs": []
    },
    {
      "cell_type": "markdown",
      "source": [
        "- Change your runtime type in top right corner to use GPU"
      ],
      "metadata": {
        "id": "MHMnmvmYZJmb"
      }
    },
    {
      "cell_type": "code",
      "source": [
        "device = torch.device(\"cuda\" if torch.cuda.is_available() else \"cpu\")\n",
        "model = model.to(device)"
      ],
      "metadata": {
        "id": "hMkcFVGuYW8T"
      },
      "execution_count": null,
      "outputs": []
    },
    {
      "cell_type": "code",
      "source": [
        "print(device)"
      ],
      "metadata": {
        "colab": {
          "base_uri": "https://localhost:8080/"
        },
        "id": "3h0oJrp_Yah5",
        "outputId": "a7a96db2-0ad1-405e-aafd-b54572e54053"
      },
      "execution_count": null,
      "outputs": [
        {
          "output_type": "stream",
          "name": "stdout",
          "text": [
            "cuda\n"
          ]
        }
      ]
    },
    {
      "cell_type": "code",
      "source": [
        "num_epochs = 10  # Number of training epochs\n",
        "batch_size = 64  # Batch size for training\n",
        "\n",
        "# Calculate the number of batches\n",
        "num_batches = len(nn_x_train) // batch_size\n",
        "\n",
        "for epoch in range(num_epochs):\n",
        "    model.train()  # Set the model to training mode\n",
        "    optimizer.zero_grad()  # Zero the gradients\n",
        "\n",
        "    for i in range(num_batches):\n",
        "        # Get the mini-batch data\n",
        "        start_idx = i * batch_size\n",
        "        end_idx = (i + 1) * batch_size\n",
        "        batch_x = nn_x_train[start_idx:end_idx]\n",
        "        batch_x = batch_x.to(device)\n",
        "        batch_y = nn_y_train[start_idx:end_idx]\n",
        "        batch_y=batch_y.to(device)\n",
        "\n",
        "        # Forward pass\n",
        "        outputs = model(batch_x)\n",
        "\n",
        "        # Compute loss\n",
        "        loss = criterion(outputs.squeeze(), batch_y.squeeze())  # Squeeze to 1D\n",
        "\n",
        "        # Backpropagation\n",
        "        loss.backward()\n",
        "        optimizer.step()  # Update weights\n",
        "\n",
        "    # Print loss every  epochs\n",
        "    print(f\"Epoch [{epoch + 1}/{num_epochs}], Loss: {loss.item():.4f}\")\n",
        "\n"
      ],
      "metadata": {
        "colab": {
          "base_uri": "https://localhost:8080/"
        },
        "id": "uR4IfyEaQSI2",
        "outputId": "d72b3806-6150-4b2f-d9e0-6bd267e6dd08"
      },
      "execution_count": null,
      "outputs": [
        {
          "output_type": "stream",
          "name": "stdout",
          "text": [
            "Epoch [1/10], Loss: 5.7248\n",
            "Epoch [2/10], Loss: 2.8344\n",
            "Epoch [3/10], Loss: 2.4208\n",
            "Epoch [4/10], Loss: 3.1252\n",
            "Epoch [5/10], Loss: 1.8171\n",
            "Epoch [6/10], Loss: 1.6441\n",
            "Epoch [7/10], Loss: 1.6100\n",
            "Epoch [8/10], Loss: 1.6760\n",
            "Epoch [9/10], Loss: 1.6944\n",
            "Epoch [10/10], Loss: 1.6921\n"
          ]
        }
      ]
    },
    {
      "cell_type": "code",
      "source": [
        "nn_x_val = nn_x_val.to(device)\n",
        "\n",
        "model.eval()  # Set the model to evaluation mode\n",
        "with torch.no_grad():  # No need to compute gradients during evaluation\n",
        "    y_pred = model(nn_x_val)\n",
        "    y_pred = torch.softmax(y_pred,dim=1).round()\n",
        "    y_pred_arg= torch.argmax(y_pred, dim=1)\n",
        "\n",
        "    # bring data back to CPU\n",
        "    y_pred_arg=y_pred_arg.cpu()\n",
        "\n",
        "    # Print classification report\n",
        "    print(classification_report(nn_y_val, y_pred_arg))\n"
      ],
      "metadata": {
        "colab": {
          "base_uri": "https://localhost:8080/"
        },
        "id": "lWqHYz_4QUVm",
        "outputId": "8a6cc18a-1e49-48a7-9f05-1d1abe504739"
      },
      "execution_count": null,
      "outputs": [
        {
          "output_type": "stream",
          "name": "stdout",
          "text": [
            "              precision    recall  f1-score   support\n",
            "\n",
            "           0       0.00      0.00      0.00     14515\n",
            "           1       0.00      0.00      0.00       439\n",
            "           2       0.00      0.00      0.00      1161\n",
            "           3       0.01      1.00      0.01       123\n",
            "           4       0.00      0.00      0.00      1273\n",
            "\n",
            "    accuracy                           0.01     17511\n",
            "   macro avg       0.00      0.20      0.00     17511\n",
            "weighted avg       0.00      0.01      0.00     17511\n",
            "\n"
          ]
        },
        {
          "output_type": "stream",
          "name": "stderr",
          "text": [
            "/usr/local/lib/python3.11/dist-packages/sklearn/metrics/_classification.py:1565: UndefinedMetricWarning: Precision is ill-defined and being set to 0.0 in labels with no predicted samples. Use `zero_division` parameter to control this behavior.\n",
            "  _warn_prf(average, modifier, f\"{metric.capitalize()} is\", len(result))\n",
            "/usr/local/lib/python3.11/dist-packages/sklearn/metrics/_classification.py:1565: UndefinedMetricWarning: Precision is ill-defined and being set to 0.0 in labels with no predicted samples. Use `zero_division` parameter to control this behavior.\n",
            "  _warn_prf(average, modifier, f\"{metric.capitalize()} is\", len(result))\n",
            "/usr/local/lib/python3.11/dist-packages/sklearn/metrics/_classification.py:1565: UndefinedMetricWarning: Precision is ill-defined and being set to 0.0 in labels with no predicted samples. Use `zero_division` parameter to control this behavior.\n",
            "  _warn_prf(average, modifier, f\"{metric.capitalize()} is\", len(result))\n"
          ]
        }
      ]
    },
    {
      "cell_type": "code",
      "source": [
        "# Compute confusion matrix\n",
        "cm = confusion_matrix(nn_y_val, y_pred_arg)\n",
        "\n",
        "# Plot the confusion matrix\n",
        "plt.figure(figsize=(6,5))\n",
        "sns.heatmap(cm, annot=True, fmt=\"d\", cmap=\"Blues\", xticklabels=set(val_y), yticklabels=set(val_y))\n",
        "plt.xlabel(\"Predicted\")\n",
        "plt.ylabel(\"Actual\")\n",
        "plt.title(\"Confusion Matrix\")\n",
        "plt.show()"
      ],
      "metadata": {
        "colab": {
          "base_uri": "https://localhost:8080/",
          "height": 487
        },
        "id": "mK5JFLAGgl4U",
        "outputId": "86e6bc69-aeed-4d7e-c68e-04c323828e39"
      },
      "execution_count": null,
      "outputs": [
        {
          "output_type": "display_data",
          "data": {
            "text/plain": [
              "<Figure size 600x500 with 2 Axes>"
            ],
            "image/png": "[encoded data removed]"
          },
          "metadata": {}
        }
      ]
    },
    {
      "cell_type": "markdown",
      "source": [
        "- No matter what I do, the model predicts everything as one class. Here is a summary of what I have tried\n",
        "- Increasing model complexity\n",
        "- Weighting the classes in the crossentropy loss definition\n",
        "- adding dropout and batchnorm\n"
      ],
      "metadata": {
        "id": "C9_dB4_bX9WP"
      }
    }
  ]
}