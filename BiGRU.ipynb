{
  "nbformat": 4,
  "nbformat_minor": 0,
  "metadata": {
    "colab": {
      "provenance": [],
      "gpuType": "T4",
      "authorship_tag": "ABX9TyN8mLmTmHf3+7B53eXYmizr",
      "include_colab_link": true
    },
    "kernelspec": {
      "name": "python3",
      "display_name": "Python 3"
    },
    "language_info": {
      "name": "python"
    },
    "accelerator": "GPU"
  },
  "cells": [
    {
      "cell_type": "markdown",
      "metadata": {
        "id": "view-in-github",
        "colab_type": "text"
      },
      "source": [
        "<a href=\"https://colab.research.google.com/github/benmellin/ECG-Prediction/blob/main/BiGRU.ipynb\" target=\"_parent\"><img src=\"https://colab.research.google.com/assets/colab-badge.svg\" alt=\"Open In Colab\"/></a>"
      ]
    },
    {
      "cell_type": "markdown",
      "source": [
        "# Establish the performance of a Bi-GRU model on ECG heartbeat classification"
      ],
      "metadata": {
        "id": "nwG55qKMLXwc"
      }
    },
    {
      "cell_type": "code",
      "execution_count": null,
      "metadata": {
        "colab": {
          "base_uri": "https://localhost:8080/"
        },
        "id": "XSIfwPfBObGP",
        "outputId": "e7aff51f-619a-48f7-fe19-31e6708f67ca"
      },
      "outputs": [
        {
          "output_type": "stream",
          "name": "stdout",
          "text": [
            "Mounted at /content/drive\n"
          ]
        }
      ],
      "source": [
        "#Mount Drive\n",
        "from google.colab import drive\n",
        "drive.mount('/content/drive')"
      ]
    },
    {
      "cell_type": "code",
      "source": [
        "import pandas as pd\n",
        "import numpy as np\n",
        "\n",
        "from sklearn.ensemble import RandomForestClassifier\n",
        "from sklearn.neighbors import KNeighborsClassifier\n",
        "from sklearn.svm import SVC\n",
        "\n",
        "from sklearn.model_selection import train_test_split\n",
        "from sklearn.metrics import accuracy_score, classification_report\n",
        "from sklearn.metrics import confusion_matrix\n",
        "from sklearn.utils.class_weight import compute_class_weight\n",
        "\n",
        "import torch\n",
        "import torch.nn as nn\n",
        "import torch.optim as optim\n",
        "\n",
        "import matplotlib.pyplot as plt\n",
        "import seaborn as sns\n",
        "\n"
      ],
      "metadata": {
        "id": "HwdlWwpyTc6a"
      },
      "execution_count": null,
      "outputs": []
    },
    {
      "cell_type": "code",
      "source": [
        "mit_train_df = pd.read_csv(\"/content/drive/MyDrive/Neural Nets Project/Data/mitbih_train.csv\",header=None)\n",
        "mit_test_df = pd.read_csv(\"/content/drive/MyDrive/Neural Nets Project/Data/mitbih_test.csv\",header=None)"
      ],
      "metadata": {
        "id": "SwOsEq1nTXiu"
      },
      "execution_count": null,
      "outputs": []
    },
    {
      "cell_type": "markdown",
      "source": [
        "### Compute Class Counts, get weights for NN"
      ],
      "metadata": {
        "id": "bBAVkttVT7qf"
      }
    },
    {
      "cell_type": "code",
      "source": [
        "## Class counts\n",
        "print(mit_train_df[187].value_counts())"
      ],
      "metadata": {
        "colab": {
          "base_uri": "https://localhost:8080/"
        },
        "id": "mp0e9hiKT2JJ",
        "outputId": "2a2a5f62-da23-48fb-ed43-90383c16ac7a"
      },
      "execution_count": null,
      "outputs": [
        {
          "output_type": "stream",
          "name": "stdout",
          "text": [
            "187\n",
            "0.0    72471\n",
            "4.0     6431\n",
            "2.0     5788\n",
            "1.0     2223\n",
            "3.0      641\n",
            "Name: count, dtype: int64\n"
          ]
        }
      ]
    },
    {
      "cell_type": "code",
      "source": [
        "## compute weights\n",
        "from sklearn.utils.class_weight import compute_class_weight\n",
        "\n",
        "# Suppose `y_train` is a list or array of your class labels\n",
        "classes = np.unique(mit_train_df[187])\n",
        "weights = compute_class_weight(class_weight='balanced', classes=classes, y=mit_train_df[187])\n",
        "\n",
        "# Convert to torch tensor\n",
        "class_weights_tensor = torch.tensor(weights, dtype=torch.float32)"
      ],
      "metadata": {
        "id": "-mYoemUOUbJb"
      },
      "execution_count": null,
      "outputs": []
    },
    {
      "cell_type": "code",
      "source": [
        "print(class_weights_tensor)"
      ],
      "metadata": {
        "colab": {
          "base_uri": "https://localhost:8080/"
        },
        "id": "050xaR7CU_zT",
        "outputId": "9db80088-affd-446e-ebc5-678ccdb9ddf4"
      },
      "execution_count": null,
      "outputs": [
        {
          "output_type": "stream",
          "name": "stdout",
          "text": [
            "tensor([ 0.2416,  7.8771,  3.0254, 27.3179,  2.7229])\n"
          ]
        }
      ]
    },
    {
      "cell_type": "markdown",
      "source": [
        "## Drop labels, train test split, convert into dataloader\n"
      ],
      "metadata": {
        "id": "63sY8PDVVJip"
      }
    },
    {
      "cell_type": "code",
      "source": [
        "## Drop labels, convert to correct shape for model\n",
        "y_train = mit_train_df[187]\n",
        "x_train = mit_train_df.drop(mit_train_df.columns[187], axis=1)\n",
        "\n",
        "\n",
        "y_test = mit_test_df[187]\n",
        "x_test=mit_test_df.drop(mit_test_df.columns[187],axis=1)\n",
        "\n"
      ],
      "metadata": {
        "id": "Ya9jI5eTVTeZ"
      },
      "execution_count": null,
      "outputs": []
    },
    {
      "cell_type": "code",
      "source": [
        "print(mit_train_df.shape)\n",
        "print(y_train.shape)\n",
        "\n",
        "print(mit_test_df.shape)\n",
        "print(y_test.shape)"
      ],
      "metadata": {
        "colab": {
          "base_uri": "https://localhost:8080/"
        },
        "id": "gfh_5km7VZ-W",
        "outputId": "7d624875-bdde-4c8e-b9e0-b3714559d523"
      },
      "execution_count": null,
      "outputs": [
        {
          "output_type": "stream",
          "name": "stdout",
          "text": [
            "(87554, 188)\n",
            "(87554,)\n",
            "(21892, 188)\n",
            "(21892,)\n"
          ]
        }
      ]
    },
    {
      "cell_type": "code",
      "source": [
        "# Train Test Split to get the validation set\n",
        "from sklearn.model_selection import train_test_split\n",
        "\n",
        "X_train, X_val, y_train, y_val = train_test_split(x_train, y_train, test_size=0.2, random_state=42)"
      ],
      "metadata": {
        "id": "Y08DfPRzWqMW"
      },
      "execution_count": null,
      "outputs": []
    },
    {
      "cell_type": "code",
      "source": [
        "print(x_test.shape)"
      ],
      "metadata": {
        "colab": {
          "base_uri": "https://localhost:8080/"
        },
        "id": "TOyhD4N8YA2K",
        "outputId": "814242aa-522b-4f4b-a915-5d5f65653d38"
      },
      "execution_count": null,
      "outputs": [
        {
          "output_type": "stream",
          "name": "stdout",
          "text": [
            "(21892, 187)\n"
          ]
        }
      ]
    },
    {
      "cell_type": "code",
      "source": [
        "#convert into data loader\n",
        "from torch.utils.data import TensorDataset, DataLoader\n",
        "\n",
        "#train\n",
        "X_train_tensor = torch.tensor(X_train.values, dtype=torch.float32)\n",
        "X_train_tensor = X_train_tensor.view(-1, 187, 1)\n",
        "y_train_tensor = torch.tensor(y_train.values, dtype=torch.long)\n",
        "\n",
        "# Create Dataset and DataLoader\n",
        "batch_size = 64\n",
        "train_dataset = TensorDataset(X_train_tensor, y_train_tensor)\n",
        "train_loader = DataLoader(train_dataset, batch_size=batch_size, shuffle=True)\n",
        "\n",
        "#validation\n",
        "X_val_tensor = torch.tensor(X_val.values, dtype=torch.float32)\n",
        "X_val_tensor = X_val_tensor.view(-1, 187, 1)\n",
        "y_val_tensor = torch.tensor(y_val.values, dtype=torch.long)\n",
        "\n",
        "# Create Dataset and DataLoader\n",
        "batch_size = 64\n",
        "val_dataset = TensorDataset(X_val_tensor, y_val_tensor)\n",
        "val_loader = DataLoader(val_dataset, batch_size=batch_size, shuffle=True)\n",
        "\n",
        "\n",
        "\n",
        "\n",
        "#test\n",
        "X_test_tensor = torch.tensor(x_test.values, dtype=torch.float32)\n",
        "X_test_tensor = X_test_tensor.view(-1, 187, 1)\n",
        "y_test_tensor = torch.tensor(y_test.values, dtype=torch.long)\n",
        "\n",
        "# Create Dataset and DataLoader\n",
        "batch_size = 64\n",
        "test_dataset = TensorDataset(X_test_tensor, y_test_tensor)\n",
        "test_loader = DataLoader(test_dataset, batch_size=batch_size, shuffle=True)\n"
      ],
      "metadata": {
        "id": "41zyFeoGVCMt"
      },
      "execution_count": null,
      "outputs": []
    },
    {
      "cell_type": "code",
      "source": [
        "for inputs, labels in train_loader:\n",
        "    print(inputs.shape)  # Should be [batch_size, seq_len, input_size]\n",
        "    break"
      ],
      "metadata": {
        "colab": {
          "base_uri": "https://localhost:8080/"
        },
        "id": "5gULo7zFagCU",
        "outputId": "0f0dfdf9-2e08-4f5a-b84c-d96f40e090f2"
      },
      "execution_count": null,
      "outputs": [
        {
          "output_type": "stream",
          "name": "stdout",
          "text": [
            "torch.Size([64, 187, 1])\n"
          ]
        }
      ]
    },
    {
      "cell_type": "markdown",
      "source": [
        "## Create a model"
      ],
      "metadata": {
        "id": "AvdnuwBlYimB"
      }
    },
    {
      "cell_type": "code",
      "source": [
        "import torch\n",
        "import torch.nn as nn\n",
        "\n",
        "class BiGRUClassifier(nn.Module):\n",
        "    def __init__(self, input_size=1, hidden_size=64, num_layers=1, num_classes=5):\n",
        "        super(BiGRUClassifier, self).__init__()\n",
        "        self.gru = nn.GRU(\n",
        "            input_size=input_size,\n",
        "            hidden_size=hidden_size,\n",
        "            num_layers=num_layers,\n",
        "            dropout=0.5,\n",
        "            batch_first=True,\n",
        "            bidirectional=True  # <- BiGRU enabled\n",
        "        )\n",
        "        self.batch_norm = nn.BatchNorm1d(hidden_size * 2)  # hidden_size x 2 for BiGRU\n",
        "        self.fc = nn.Linear(hidden_size * 2, num_classes)\n",
        "\n",
        "    def forward(self, x):\n",
        "        out, _ = self.gru(x)  # out: (batch_size, seq_len, hidden_size * 2)\n",
        "        last_hidden = out[:, -1, :]  # (batch_size, hidden_size * 2)\n",
        "        normed = self.batch_norm(last_hidden)\n",
        "        logits = self.fc(normed)\n",
        "        return logits\n"
      ],
      "metadata": {
        "id": "vnh9KHDQYkeW"
      },
      "execution_count": null,
      "outputs": []
    },
    {
      "cell_type": "code",
      "source": [
        "import torch.optim as optim\n",
        "\n",
        "# Move to GPU if available\n",
        "\n",
        "weights = torch.tensor(class_weights_tensor)\n",
        "\n",
        "model = BiGRUClassifier(\n",
        "    input_size=1,\n",
        "    hidden_size=128,\n",
        "    num_layers=2,\n",
        "    num_classes=5\n",
        ")\n",
        "device = torch.device(\"cuda\" if torch.cuda.is_available() else \"cpu\")\n",
        "model.to(device)\n",
        "\n",
        "criterion = nn.CrossEntropyLoss(weight=weights.to(device))\n",
        "optimizer = optim.Adam(model.parameters(), lr=0.001)"
      ],
      "metadata": {
        "colab": {
          "base_uri": "https://localhost:8080/"
        },
        "id": "lzmmYQnbYpAe",
        "outputId": "152f910d-e921-40f1-e4ec-7141f1349603"
      },
      "execution_count": null,
      "outputs": [
        {
          "output_type": "stream",
          "name": "stderr",
          "text": [
            "<ipython-input-36-c0f1902c0631>:5: UserWarning: To copy construct from a tensor, it is recommended to use sourceTensor.clone().detach() or sourceTensor.clone().detach().requires_grad_(True), rather than torch.tensor(sourceTensor).\n",
            "  weights = torch.tensor(class_weights_tensor)\n"
          ]
        }
      ]
    },
    {
      "cell_type": "code",
      "source": [
        "print(device)"
      ],
      "metadata": {
        "colab": {
          "base_uri": "https://localhost:8080/"
        },
        "id": "ixeUPqy-gUGp",
        "outputId": "f7a3d445-efb3-495f-8a81-59dfbc803ef4"
      },
      "execution_count": null,
      "outputs": [
        {
          "output_type": "stream",
          "name": "stdout",
          "text": [
            "cuda\n"
          ]
        }
      ]
    },
    {
      "cell_type": "code",
      "source": [
        "epochs = 10\n",
        "for epoch in range(epochs):\n",
        "    model.train()\n",
        "    running_loss = 0.0\n",
        "    for i, (inputs, labels) in enumerate(train_loader):\n",
        "        inputs, labels = inputs.to(device), labels.to(device)\n",
        "\n",
        "        # Forward pass\n",
        "        outputs = model(inputs)\n",
        "        loss = criterion(outputs, labels)\n",
        "\n",
        "        # Backward + optimize\n",
        "        optimizer.zero_grad()\n",
        "        loss.backward()\n",
        "        optimizer.step()\n",
        "\n",
        "        running_loss += loss.item()\n",
        "\n",
        "    print(f\"Epoch [{epoch+1}/{epochs}], Loss: {running_loss / len(train_loader):.4f}\")"
      ],
      "metadata": {
        "colab": {
          "base_uri": "https://localhost:8080/"
        },
        "id": "dQJFXOftZbiP",
        "outputId": "46bc65ee-3f56-4704-902b-40c4a6d9af51"
      },
      "execution_count": null,
      "outputs": [
        {
          "output_type": "stream",
          "name": "stdout",
          "text": [
            "Epoch [1/10], Loss: 0.1440\n",
            "Epoch [2/10], Loss: 0.1449\n",
            "Epoch [3/10], Loss: 0.1425\n",
            "Epoch [4/10], Loss: 0.1342\n",
            "Epoch [5/10], Loss: 0.1247\n",
            "Epoch [6/10], Loss: 0.1359\n",
            "Epoch [7/10], Loss: 0.1332\n",
            "Epoch [8/10], Loss: 0.1114\n",
            "Epoch [9/10], Loss: 0.1367\n",
            "Epoch [10/10], Loss: 0.1202\n"
          ]
        }
      ]
    },
    {
      "cell_type": "markdown",
      "source": [
        "## Checking Accuracy and Class Scores"
      ],
      "metadata": {
        "id": "NZmEqOoXd2G7"
      }
    },
    {
      "cell_type": "code",
      "source": [
        "import numpy as np\n",
        "from sklearn.metrics import confusion_matrix, f1_score\n",
        "import matplotlib.pyplot as plt\n",
        "import seaborn as sns\n",
        "\n",
        "# Set the model to evaluation mode\n",
        "model.eval()\n",
        "\n",
        "# Initialize variables to track correct predictions, total samples, and storing predictions\n",
        "correct = 0\n",
        "total = 0\n",
        "all_predictions = []\n",
        "all_labels = []\n",
        "\n",
        "# No need to compute gradients during evaluation\n",
        "with torch.no_grad():\n",
        "    # Iterate over the validation set\n",
        "    for inputs, labels in val_loader:\n",
        "        inputs, labels = inputs.to(device), labels.to(device)  # Move to GPU if available\n",
        "\n",
        "        # Forward pass: Get predictions\n",
        "        outputs = model(inputs)\n",
        "\n",
        "        # Get the predicted class with the highest probability (i.e., the index of the max value in the output)\n",
        "        _, predicted = torch.max(outputs, 1)\n",
        "\n",
        "        # Update the total number of samples and correct predictions\n",
        "        total += labels.size(0)\n",
        "        correct += (predicted == labels).sum().item()\n",
        "\n",
        "        # Store predictions and labels for later use in confusion matrix and F1 score\n",
        "        all_predictions.extend(predicted.cpu().numpy())\n",
        "        all_labels.extend(labels.cpu().numpy())\n",
        "\n",
        "# Compute accuracy\n",
        "accuracy = 100 * correct / total\n",
        "print(f'Validation Accuracy: {accuracy:.2f}%')\n",
        "\n",
        "# Compute confusion matrix\n",
        "cm = confusion_matrix(all_labels, all_predictions)\n",
        "\n",
        "# Plot confusion matrix using seaborn heatmap\n",
        "plt.figure(figsize=(8, 6))\n",
        "sns.heatmap(cm, annot=True, fmt='d', cmap='Blues', xticklabels=np.arange(5), yticklabels=np.arange(5))\n",
        "plt.title('Confusion Matrix')\n",
        "plt.xlabel('Predicted Label')\n",
        "plt.ylabel('True Label')\n",
        "plt.show()\n",
        "\n",
        "# Compute weighted F1 score\n",
        "f1 = f1_score(all_labels, all_predictions, average='weighted')\n",
        "print(f'Weighted F1 Score: {f1:.4f}')\n"
      ],
      "metadata": {
        "colab": {
          "base_uri": "https://localhost:8080/",
          "height": 596
        },
        "id": "WCDl1SRpfZRt",
        "outputId": "e81f27e8-4b8a-4f1b-c389-92d43231242e"
      },
      "execution_count": null,
      "outputs": [
        {
          "output_type": "stream",
          "name": "stdout",
          "text": [
            "Validation Accuracy: 93.57%\n"
          ]
        },
        {
          "output_type": "display_data",
          "data": {
            "text/plain": [
              "<Figure size 800x600 with 2 Axes>"
            ],
            "image/png": "[encoded data removed]"
          },
          "metadata": {}
        },
        {
          "output_type": "stream",
          "name": "stdout",
          "text": [
            "Weighted F1 Score: 0.9476\n"
          ]
        }
      ]
    },
    {
      "cell_type": "markdown",
      "source": [
        "The above was 20 epochs."
      ],
      "metadata": {
        "id": "85JJJcX8rJnO"
      }
    },
    {
      "cell_type": "markdown",
      "source": [
        "## Trying to make the model bigger and see if we can get better performance"
      ],
      "metadata": {
        "id": "0G3vVRj8rNY9"
      }
    },
    {
      "cell_type": "code",
      "source": [
        "# Move to GPU if available\n",
        "\n",
        "weights = torch.tensor(class_weights_tensor)\n",
        "\n",
        "model = BiGRUClassifier(\n",
        "    input_size=1,\n",
        "    hidden_size=256,\n",
        "    num_layers=3,\n",
        "    num_classes=5\n",
        ")\n",
        "device = torch.device(\"cuda\" if torch.cuda.is_available() else \"cpu\")\n",
        "model.to(device)\n",
        "\n",
        "criterion = nn.CrossEntropyLoss(weight=weights.to(device))\n",
        "optimizer = optim.Adam(model.parameters(), lr=0.001)"
      ],
      "metadata": {
        "colab": {
          "base_uri": "https://localhost:8080/"
        },
        "id": "OPEDZJw9rM6i",
        "outputId": "3353627c-4637-4db3-a5dc-d0ffd1bd8bf3"
      },
      "execution_count": null,
      "outputs": [
        {
          "output_type": "stream",
          "name": "stderr",
          "text": [
            "<ipython-input-43-8aff3f242c4d>:3: UserWarning: To copy construct from a tensor, it is recommended to use sourceTensor.clone().detach() or sourceTensor.clone().detach().requires_grad_(True), rather than torch.tensor(sourceTensor).\n",
            "  weights = torch.tensor(class_weights_tensor)\n"
          ]
        }
      ]
    },
    {
      "cell_type": "code",
      "source": [
        "epochs = 10\n",
        "for epoch in range(epochs):\n",
        "    model.train()\n",
        "    running_loss = 0.0\n",
        "    for i, (inputs, labels) in enumerate(train_loader):\n",
        "        inputs, labels = inputs.to(device), labels.to(device)\n",
        "\n",
        "        # Forward pass\n",
        "        outputs = model(inputs)\n",
        "        loss = criterion(outputs, labels)\n",
        "\n",
        "        # Backward + optimize\n",
        "        optimizer.zero_grad()\n",
        "        loss.backward()\n",
        "        optimizer.step()\n",
        "\n",
        "        running_loss += loss.item()\n",
        "\n",
        "    print(f\"Epoch [{epoch+1}/{epochs}], Loss: {running_loss / len(train_loader):.4f}\")"
      ],
      "metadata": {
        "colab": {
          "base_uri": "https://localhost:8080/"
        },
        "id": "dsfWOC9rrgY7",
        "outputId": "d55f6f44-c041-486e-ef0f-33b048f1f407"
      },
      "execution_count": null,
      "outputs": [
        {
          "output_type": "stream",
          "name": "stdout",
          "text": [
            "Epoch [1/10], Loss: 1.4860\n",
            "Epoch [2/10], Loss: 1.0164\n",
            "Epoch [3/10], Loss: 0.8443\n",
            "Epoch [4/10], Loss: 0.7781\n",
            "Epoch [5/10], Loss: 0.7662\n",
            "Epoch [6/10], Loss: 0.6626\n",
            "Epoch [7/10], Loss: 0.6473\n",
            "Epoch [8/10], Loss: 0.6541\n",
            "Epoch [9/10], Loss: 1.0819\n",
            "Epoch [10/10], Loss: 0.9324\n"
          ]
        }
      ]
    },
    {
      "cell_type": "code",
      "source": [
        "import numpy as np\n",
        "from sklearn.metrics import confusion_matrix, f1_score\n",
        "import matplotlib.pyplot as plt\n",
        "import seaborn as sns\n",
        "\n",
        "# Set the model to evaluation mode\n",
        "model.eval()\n",
        "\n",
        "# Initialize variables to track correct predictions, total samples, and storing predictions\n",
        "correct = 0\n",
        "total = 0\n",
        "all_predictions = []\n",
        "all_labels = []\n",
        "\n",
        "# No need to compute gradients during evaluation\n",
        "with torch.no_grad():\n",
        "    # Iterate over the validation set\n",
        "    for inputs, labels in val_loader:\n",
        "        inputs, labels = inputs.to(device), labels.to(device)  # Move to GPU if available\n",
        "\n",
        "        # Forward pass: Get predictions\n",
        "        outputs = model(inputs)\n",
        "\n",
        "        # Get the predicted class with the highest probability (i.e., the index of the max value in the output)\n",
        "        _, predicted = torch.max(outputs, 1)\n",
        "\n",
        "        # Update the total number of samples and correct predictions\n",
        "        total += labels.size(0)\n",
        "        correct += (predicted == labels).sum().item()\n",
        "\n",
        "        # Store predictions and labels for later use in confusion matrix and F1 score\n",
        "        all_predictions.extend(predicted.cpu().numpy())\n",
        "        all_labels.extend(labels.cpu().numpy())\n",
        "\n",
        "# Compute accuracy\n",
        "accuracy = 100 * correct / total\n",
        "print(f'Validation Accuracy: {accuracy:.2f}%')\n",
        "\n",
        "# Compute confusion matrix\n",
        "cm = confusion_matrix(all_labels, all_predictions)\n",
        "\n",
        "# Plot confusion matrix using seaborn heatmap\n",
        "plt.figure(figsize=(8, 6))\n",
        "sns.heatmap(cm, annot=True, fmt='d', cmap='Blues', xticklabels=np.arange(5), yticklabels=np.arange(5))\n",
        "plt.title('Confusion Matrix')\n",
        "plt.xlabel('Predicted Label')\n",
        "plt.ylabel('True Label')\n",
        "plt.show()\n",
        "\n",
        "# Compute weighted F1 score\n",
        "f1 = f1_score(all_labels, all_predictions, average='weighted')\n",
        "print(f'Weighted F1 Score: {f1:.4f}')\n"
      ],
      "metadata": {
        "colab": {
          "base_uri": "https://localhost:8080/",
          "height": 596
        },
        "id": "jdNLPJ79rjti",
        "outputId": "5560b9bd-8439-4f38-fa54-85a489f3a226"
      },
      "execution_count": null,
      "outputs": [
        {
          "output_type": "stream",
          "name": "stdout",
          "text": [
            "Validation Accuracy: 38.28%\n"
          ]
        },
        {
          "output_type": "display_data",
          "data": {
            "text/plain": [
              "<Figure size 800x600 with 2 Axes>"
            ],
            "image/png": "[encoded data removed]"
          },
          "metadata": {}
        },
        {
          "output_type": "stream",
          "name": "stdout",
          "text": [
            "Weighted F1 Score: 0.4870\n"
          ]
        }
      ]
    },
    {
      "cell_type": "markdown",
      "source": [
        "The larger model didn't seem to work too well.\n",
        "\n"
      ],
      "metadata": {
        "id": "hWulBDk8vbVr"
      }
    }
  ]
}